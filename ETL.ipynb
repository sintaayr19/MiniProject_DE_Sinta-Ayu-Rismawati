{
 "cells": [
  {
   "cell_type": "markdown",
   "metadata": {},
   "source": [
    "# Import Library"
   ]
  },
  {
   "cell_type": "code",
   "execution_count": 2,
   "metadata": {},
   "outputs": [],
   "source": [
    "import pandas as pd\n",
    "import xml.etree.ElementTree as ET\n",
    "import sqlite3\n",
    "import requests\n",
    "from bs4 import BeautifulSoup"
   ]
  },
  {
   "cell_type": "markdown",
   "metadata": {},
   "source": [
    "# Extract Data"
   ]
  },
  {
   "cell_type": "code",
   "execution_count": 46,
   "metadata": {},
   "outputs": [
    {
     "name": "stderr",
     "output_type": "stream",
     "text": [
      "C:\\Users\\SINTA\\AppData\\Local\\Temp\\ipykernel_3060\\3782938366.py:12: DtypeWarning: Columns (44) have mixed types. Specify dtype option on import or set low_memory=False.\n",
      "  projects_data = pd.read_csv(\"DataSource/projects_data.csv\", quotechar='\"')\n"
     ]
    }
   ],
   "source": [
    "# From csv\n",
    "electricity_access_precent = pd.read_csv('DataSource/electricity_access_precent.csv', quotechar='\"')\n",
    "\n",
    "rural_population_percent = pd.read_csv(\"DataSource/rural_population_percent.csv\", quotechar='\"')\n",
    "\n",
    "gdp_data = pd.read_csv('DataSource/gdp_data.csv', quotechar='\"')\n",
    "\n",
    "mystery = pd.read_csv('DataSource/mystery.csv', quotechar='\"')\n",
    "\n",
    "population_data_from_csv = pd.read_csv('DataSource/population_data.csv', quotechar='\"')\n",
    "\n",
    "projects_data = pd.read_csv(\"DataSource/projects_data.csv\", quotechar='\"')\n",
    "\n",
    "\n",
    "# From json\n",
    "population_data_from_json = pd.read_json('DataSource/population_data.json')\n",
    "\n",
    "\n",
    "# From db\n",
    "conn = sqlite3.connect('DataSource/population_data.db')\n",
    "population_data_from_db = pd.read_sql_query(\"SELECT * FROM population_data;\", conn)\n",
    "conn.close()\n",
    "\n",
    "\n",
    "# From xml\n",
    "with open(\"DataSource/population_data.xml\", \"r\") as f:\n",
    "    xml_data = f.read()\n",
    "\n",
    "soup = BeautifulSoup(xml_data, \"xml\")\n",
    "data = []\n",
    "for record in soup.find_all(\"record\"):\n",
    "    record_data = {}\n",
    "    for field in record.find_all(\"field\"):\n",
    "        name = field.get(\"name\")\n",
    "        value = field.text\n",
    "        record_data[name] = value\n",
    "    data.append(record_data)\n",
    "\n",
    "population_data_from_xml = pd.DataFrame(data)\n",
    "\n",
    "\n",
    "# from API\n",
    "url = f\"https://api.worldbank.org/v2/countries/all/indicators/SP.POP.TOTL/?format=json&per_page=1000\"\n",
    "data = []\n",
    "page = 1\n",
    "total_pages = None\n",
    "\n",
    "while total_pages is None or page <= total_pages:\n",
    "    response = requests.get(url, params={\"page\": page})\n",
    "    response_data = response.json()\n",
    "    if total_pages is None:\n",
    "        total_pages = response_data[0]['pages']\n",
    "    data.extend(response_data[1])\n",
    "    page += 1\n",
    "\n",
    "df_worldbank = pd.json_normalize(data)"
   ]
  },
  {
   "cell_type": "markdown",
   "metadata": {},
   "source": [
    "# Transfrom"
   ]
  },
  {
   "cell_type": "code",
   "execution_count": 47,
   "metadata": {},
   "outputs": [],
   "source": [
    "electricity_access_precent.drop(columns=[\"Unnamed: 62\"], inplace=True)\n",
    "electricity_access_precent = electricity_access_precent.fillna(0.000)\n",
    "electricity_access_precent.drop(columns=[\"Indicator Name\",\"Indicator Code\"], inplace=True)\n",
    "electricity_access_precent = electricity_access_precent.rename(columns={'Country Name':'country_name','Country Code':'country_code'})\n",
    "electricity_access_precent = electricity_access_precent.melt(id_vars=[\"country_name\",\"country_code\"], var_name='year', value_name='electricity_access_percent')\n",
    "\n",
    "rural_population_percent.drop(columns=[\"Unnamed: 62\"], inplace=True)\n",
    "rural_population_percent = rural_population_percent.fillna(0.000)\n",
    "rural_population_percent.drop(columns=[\"Indicator Name\",\"Indicator Code\"], inplace=True)\n",
    "rural_population_percent = rural_population_percent.rename(columns={'Country Name':'country_name','Country Code':'country_code'})\n",
    "rural_population_percent = rural_population_percent.melt(id_vars=[\"country_name\",\"country_code\"], var_name='year', value_name='rural_population_percent')\n",
    "\n",
    "combine = pd.merge(electricity_access_precent, rural_population_percent, how='left', on=[\"country_name\", \"country_code\", \"year\"])\n"
   ]
  },
  {
   "cell_type": "code",
   "execution_count": 53,
   "metadata": {},
   "outputs": [],
   "source": [
    "# electricity_access_precent.to_csv(\"tes2.cvs\")\n",
    "# rural_population_percent\n",
    "# electricity_access_precent\n",
    "# print(electricity_access_precent.dtypes)\n",
    "# print(rural_population_percent.dtypes)\n",
    "# combine\n",
    "\n",
    "# combine2 = pd.merge(electricity_access_precent, rural_population_percent, how='left', on=[\"country_name\", \"country_code\", \"year\"])\n",
    "# combine2.to_csv('combine2.csv')"
   ]
  },
  {
   "cell_type": "code",
   "execution_count": 3,
   "metadata": {},
   "outputs": [],
   "source": [
    "# Handle missing value\n",
    "# Handle duplikat\n",
    "# Merge data rural_population_percent + electricity_access_percent"
   ]
  }
 ],
 "metadata": {
  "kernelspec": {
   "display_name": "Python 3",
   "language": "python",
   "name": "python3"
  },
  "language_info": {
   "codemirror_mode": {
    "name": "ipython",
    "version": 3
   },
   "file_extension": ".py",
   "mimetype": "text/x-python",
   "name": "python",
   "nbconvert_exporter": "python",
   "pygments_lexer": "ipython3",
   "version": "3.12.2"
  }
 },
 "nbformat": 4,
 "nbformat_minor": 2
}
