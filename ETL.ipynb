{
 "cells": [
  {
   "cell_type": "markdown",
   "metadata": {},
   "source": [
    "# Import Library"
   ]
  },
  {
   "cell_type": "code",
   "execution_count": null,
   "metadata": {},
   "outputs": [],
   "source": [
    "import pandas as pd\n",
    "import sqlite3\n",
    "import requests\n",
    "from bs4 import BeautifulSoup\n",
    "import seaborn as sns\n",
    "import matplotlib.pyplot as plt"
   ]
  },
  {
   "cell_type": "markdown",
   "metadata": {},
   "source": [
    "# Extract Data"
   ]
  },
  {
   "cell_type": "code",
   "execution_count": null,
   "metadata": {},
   "outputs": [],
   "source": [
    "# From csv\n",
    "electricity_access_precent = pd.read_csv('DataSource/electricity_access_precent.csv', quotechar='\"')\n",
    "\n",
    "rural_population_percent = pd.read_csv(\"DataSource/rural_population_percent.csv\", quotechar='\"')\n",
    "\n",
    "gdp_data = pd.read_csv('DataSource/gdp_data.csv', quotechar='\"')\n",
    "\n",
    "mystery = pd.read_csv('DataSource/mystery.csv', quotechar='\"')\n",
    "\n",
    "population_data_from_csv = pd.read_csv('DataSource/population_data.csv', quotechar='\"')\n",
    "\n",
    "projects_data = pd.read_csv(\"DataSource/projects_data.csv\", quotechar='\"')\n",
    "\n",
    "\n",
    "# From json\n",
    "population_data_from_json = pd.read_json('DataSource/population_data.json')\n",
    "\n",
    "\n",
    "# From db\n",
    "conn = sqlite3.connect('DataSource/population_data.db')\n",
    "population_data_from_db = pd.read_sql_query(\"SELECT * FROM population_data;\", conn)\n",
    "conn.close()\n",
    "\n",
    "\n",
    "# From xml\n",
    "with open(\"DataSource/population_data.xml\", \"r\") as f:\n",
    "    xml_data = f.read()\n",
    "\n",
    "soup = BeautifulSoup(xml_data, \"xml\")\n",
    "data = []\n",
    "for record in soup.find_all(\"record\"):\n",
    "    record_data = {}\n",
    "    for field in record.find_all(\"field\"):\n",
    "        name = field.get(\"name\")\n",
    "        value = field.text\n",
    "        key = field.get(\"key\")  \n",
    "        record_data[name] = value\n",
    "        if name != \"Year\" and name != \"Value\": \n",
    "            record_data[name+\"_key\"] = key  \n",
    "    data.append(record_data)\n",
    "\n",
    "population_data_from_xml = pd.DataFrame(data)\n",
    "\n",
    "\n",
    "# from API\n",
    "all_iso2codes = []\n",
    "\n",
    "url = \"https://api.worldbank.org/v2/countries/\"\n",
    "response = requests.get(url)\n",
    "\n",
    "if response.status_code == 200:\n",
    "    soup = BeautifulSoup(response.content, \"xml\")\n",
    "    total_pages = int(soup.find('wb:countries')['pages'])\n",
    "    for page_num in range(1, total_pages + 1):\n",
    "        url = f\"https://api.worldbank.org/v2/countries/?page={page_num}\"\n",
    "        response = requests.get(url)\n",
    "        if response.status_code == 200:\n",
    "            soup = BeautifulSoup(response.content, \"xml\")\n",
    "            countries = soup.find_all('wb:country')\n",
    "            iso2codes = [country.find('wb:iso2Code').text for country in countries]\n",
    "            all_iso2codes.extend(iso2codes)\n",
    "        else:\n",
    "            print(\"Error:\", response.status_code)\n",
    "else:\n",
    "    print(\"Error:\", response.status_code)\n",
    "\n",
    "iso2codes_combined = \";\".join(all_iso2codes)\n",
    "\n",
    "url = f\"https://api.worldbank.org/v2/countries/{iso2codes_combined}/indicators/SP.POP.TOTL/?format=json&per_page=1000\"\n",
    "data = []\n",
    "page = 1\n",
    "total_pages = None\n",
    "\n",
    "while total_pages is None or page <= total_pages:\n",
    "    response = requests.get(url, params={\"page\": page})\n",
    "    response_data = response.json()\n",
    "    if total_pages is None:\n",
    "        total_pages = response_data[0]['pages']\n",
    "    data.extend(response_data[1])\n",
    "    page += 1\n",
    "\n",
    "df_worldbank = pd.json_normalize(data)"
   ]
  },
  {
   "cell_type": "markdown",
   "metadata": {},
   "source": [
    "# Transfrom"
   ]
  },
  {
   "cell_type": "markdown",
   "metadata": {},
   "source": [
    "#### - Check Duplicate"
   ]
  },
  {
   "cell_type": "code",
   "execution_count": null,
   "metadata": {},
   "outputs": [],
   "source": [
    "duplicate_rows = electricity_access_precent[projects_data.duplicated(keep=False)]\n",
    "print(duplicate_rows)\n",
    "\n",
    "duplicate_rows = gdp_data[projects_data.duplicated(keep=False)]\n",
    "print(duplicate_rows)\n",
    "\n",
    "duplicate_rows = mystery[projects_data.duplicated(keep=False)]\n",
    "print(duplicate_rows)\n",
    "\n",
    "duplicate_rows = population_data_from_csv[projects_data.duplicated(keep=False)]\n",
    "print(duplicate_rows)\n",
    "\n",
    "duplicate_rows = population_data_from_db[projects_data.duplicated(keep=False)]\n",
    "print(duplicate_rows)\n",
    "\n",
    "duplicate_rows = population_data_from_json[projects_data.duplicated(keep=False)]\n",
    "print(duplicate_rows)\n",
    "\n",
    "duplicate_rows = population_data_from_xml[projects_data.duplicated(keep=False)]\n",
    "print(duplicate_rows)\n",
    "\n",
    "duplicate_rows = projects_data[projects_data.duplicated(keep=False)]\n",
    "print(duplicate_rows)\n",
    "\n",
    "duplicate_rows = rural_population_percent[projects_data.duplicated(keep=False)]\n",
    "print(duplicate_rows)\n",
    "\n",
    "duplicate_rows = df_worldbank[projects_data.duplicated(keep=False)]\n",
    "print(duplicate_rows)"
   ]
  },
  {
   "cell_type": "markdown",
   "metadata": {},
   "source": [
    "#### - Handle Missing Value"
   ]
  },
  {
   "cell_type": "code",
   "execution_count": null,
   "metadata": {},
   "outputs": [],
   "source": [
    "def handle_missing_value_by_column(data):\n",
    "    total_row = len(data)\n",
    "    missing_values = data.isnull().sum()\n",
    "    missing_percentage = (missing_values / (missing_values + total_row)) * 100\n",
    "    columns_to_drop = missing_percentage[missing_percentage > 20].index\n",
    "    data.drop(columns=columns_to_drop, inplace=True)\n",
    "    return data\n",
    "                \n",
    "\n",
    "def handle_missing_value_by_row(data, column_param) :\n",
    "    index = data.columns.get_loc(column_param) ## ambil index dari kolom pembatas\n",
    "    cek_kolom = data.columns[index + 1:]\n",
    "    jumlah_cek_kolom = len(cek_kolom)\n",
    "    drop_rows = []\n",
    "    for index, row in data.iterrows() :\n",
    "        missing_values = row[cek_kolom].isna() | (row[cek_kolom]==0)\n",
    "        if missing_values.any() :\n",
    "            missing_values_count = missing_values.sum()\n",
    "            missing_percent = (missing_values_count/jumlah_cek_kolom)*100\n",
    "            if missing_percent > 20 :\n",
    "                drop_rows.append(index)\n",
    "            else:\n",
    "                row[cek_kolom] = row[cek_kolom].replace(0, pd.NA)\n",
    "                numeric_row = row[cek_kolom].apply(pd.to_numeric, errors='coerce')\n",
    "                mean_row = numeric_row.mean()\n",
    "                data.loc[index, cek_kolom] = numeric_row.fillna(mean_row)\n",
    "\n",
    "    data.drop(index=drop_rows, inplace=True)\n",
    "    return data"
   ]
  },
  {
   "cell_type": "markdown",
   "metadata": {},
   "source": [
    "##### 1. electricity_access_percent"
   ]
  },
  {
   "cell_type": "code",
   "execution_count": null,
   "metadata": {},
   "outputs": [],
   "source": [
    "handle_missing_value_by_column(electricity_access_precent)\n",
    "handle_missing_value_by_row(electricity_access_precent, 'Indicator Code')\n",
    "df = electricity_access_precent\n",
    "df = df.rename(columns={'Country Name':'country_name','Country Code':'country_code', 'Indicator Name':'indicator_name','Indicator Code':'indicator_code'})\n",
    "df = df.melt(id_vars=[\"country_name\",\"country_code\",\"indicator_name\",\"indicator_code\"], var_name='year', value_name='electricity_access_percent')\n",
    "df = df.sort_values(by=['country_name', 'year'])\n",
    "electricity_access_precent=df"
   ]
  },
  {
   "cell_type": "markdown",
   "metadata": {},
   "source": [
    "##### 2. rural_population_percent"
   ]
  },
  {
   "cell_type": "code",
   "execution_count": null,
   "metadata": {},
   "outputs": [],
   "source": [
    "handle_missing_value_by_column(rural_population_percent)\n",
    "handle_missing_value_by_row(rural_population_percent, 'Indicator Code')\n",
    "df = rural_population_percent\n",
    "df = df.rename(columns={'Country Name':'country_name','Country Code':'country_code', 'Indicator Name':'indicator_name','Indicator Code':'indicator_code'})\n",
    "df = df.melt(id_vars=[\"country_name\",\"country_code\",\"indicator_name\",\"indicator_code\"], var_name='year', value_name='rural_population_percent')\n",
    "df = df.sort_values(by=['country_name','year'])\n",
    "rural_population_percent=df"
   ]
  },
  {
   "cell_type": "markdown",
   "metadata": {},
   "source": [
    "##### 3. All Population Data"
   ]
  },
  {
   "cell_type": "code",
   "execution_count": 8,
   "metadata": {},
   "outputs": [
    {
     "ename": "KeyError",
     "evalue": "'Indicator Code'",
     "output_type": "error",
     "traceback": [
      "\u001b[1;31m---------------------------------------------------------------------------\u001b[0m",
      "\u001b[1;31mKeyError\u001b[0m                                  Traceback (most recent call last)",
      "File \u001b[1;32mc:\\Users\\SINTA\\AppData\\Local\\Programs\\Python\\Python312\\Lib\\site-packages\\pandas\\core\\indexes\\base.py:3805\u001b[0m, in \u001b[0;36mIndex.get_loc\u001b[1;34m(self, key)\u001b[0m\n\u001b[0;32m   3804\u001b[0m \u001b[38;5;28;01mtry\u001b[39;00m:\n\u001b[1;32m-> 3805\u001b[0m     \u001b[38;5;28;01mreturn\u001b[39;00m \u001b[38;5;28;43mself\u001b[39;49m\u001b[38;5;241;43m.\u001b[39;49m\u001b[43m_engine\u001b[49m\u001b[38;5;241;43m.\u001b[39;49m\u001b[43mget_loc\u001b[49m\u001b[43m(\u001b[49m\u001b[43mcasted_key\u001b[49m\u001b[43m)\u001b[49m\n\u001b[0;32m   3806\u001b[0m \u001b[38;5;28;01mexcept\u001b[39;00m \u001b[38;5;167;01mKeyError\u001b[39;00m \u001b[38;5;28;01mas\u001b[39;00m err:\n",
      "File \u001b[1;32mindex.pyx:167\u001b[0m, in \u001b[0;36mpandas._libs.index.IndexEngine.get_loc\u001b[1;34m()\u001b[0m\n",
      "File \u001b[1;32mindex.pyx:196\u001b[0m, in \u001b[0;36mpandas._libs.index.IndexEngine.get_loc\u001b[1;34m()\u001b[0m\n",
      "File \u001b[1;32mpandas\\\\_libs\\\\hashtable_class_helper.pxi:7081\u001b[0m, in \u001b[0;36mpandas._libs.hashtable.PyObjectHashTable.get_item\u001b[1;34m()\u001b[0m\n",
      "File \u001b[1;32mpandas\\\\_libs\\\\hashtable_class_helper.pxi:7089\u001b[0m, in \u001b[0;36mpandas._libs.hashtable.PyObjectHashTable.get_item\u001b[1;34m()\u001b[0m\n",
      "\u001b[1;31mKeyError\u001b[0m: 'Indicator Code'",
      "\nThe above exception was the direct cause of the following exception:\n",
      "\u001b[1;31mKeyError\u001b[0m                                  Traceback (most recent call last)",
      "Cell \u001b[1;32mIn[8], line 4\u001b[0m\n\u001b[0;32m      2\u001b[0m df \u001b[38;5;241m=\u001b[39m population_data_from_csv\n\u001b[0;32m      3\u001b[0m handle_missing_value_by_column(df)\n\u001b[1;32m----> 4\u001b[0m \u001b[43mhandle_missing_value_by_row\u001b[49m\u001b[43m(\u001b[49m\u001b[43mdf\u001b[49m\u001b[43m,\u001b[49m\u001b[38;5;124;43m'\u001b[39;49m\u001b[38;5;124;43mIndicator Code\u001b[39;49m\u001b[38;5;124;43m'\u001b[39;49m\u001b[43m)\u001b[49m\n\u001b[0;32m      5\u001b[0m df[\u001b[38;5;124m'\u001b[39m\u001b[38;5;124mIndicator Name\u001b[39m\u001b[38;5;124m'\u001b[39m] \u001b[38;5;241m=\u001b[39m df[\u001b[38;5;124m'\u001b[39m\u001b[38;5;124mIndicator Name\u001b[39m\u001b[38;5;124m'\u001b[39m]\u001b[38;5;241m.\u001b[39mstr\u001b[38;5;241m.\u001b[39mreplace(\u001b[38;5;124m'\u001b[39m\u001b[38;5;124mPopulation, total\u001b[39m\u001b[38;5;124m'\u001b[39m, \u001b[38;5;124m'\u001b[39m\u001b[38;5;124mPopulation total\u001b[39m\u001b[38;5;124m'\u001b[39m)\n\u001b[0;32m      6\u001b[0m df \u001b[38;5;241m=\u001b[39m df\u001b[38;5;241m.\u001b[39mrename(columns\u001b[38;5;241m=\u001b[39m{\u001b[38;5;124m\"\u001b[39m\u001b[38;5;124mCountry Name\u001b[39m\u001b[38;5;124m\"\u001b[39m:\u001b[38;5;124m\"\u001b[39m\u001b[38;5;124mcountry_name\u001b[39m\u001b[38;5;124m\"\u001b[39m,\u001b[38;5;124m\"\u001b[39m\u001b[38;5;124mCountry Code\u001b[39m\u001b[38;5;124m\"\u001b[39m:\u001b[38;5;124m\"\u001b[39m\u001b[38;5;124mcountry_code\u001b[39m\u001b[38;5;124m\"\u001b[39m,\u001b[38;5;124m\"\u001b[39m\u001b[38;5;124mIndicator Name\u001b[39m\u001b[38;5;124m\"\u001b[39m:\u001b[38;5;124m\"\u001b[39m\u001b[38;5;124mindicator_name\u001b[39m\u001b[38;5;124m\"\u001b[39m,\u001b[38;5;124m\"\u001b[39m\u001b[38;5;124mIndicator Code\u001b[39m\u001b[38;5;124m\"\u001b[39m:\u001b[38;5;124m\"\u001b[39m\u001b[38;5;124mindicator_code\u001b[39m\u001b[38;5;124m\"\u001b[39m})\n",
      "Cell \u001b[1;32mIn[3], line 11\u001b[0m, in \u001b[0;36mhandle_missing_value_by_row\u001b[1;34m(data, column_param)\u001b[0m\n\u001b[0;32m     10\u001b[0m \u001b[38;5;28;01mdef\u001b[39;00m \u001b[38;5;21mhandle_missing_value_by_row\u001b[39m(data, column_param) :\n\u001b[1;32m---> 11\u001b[0m     index \u001b[38;5;241m=\u001b[39m \u001b[43mdata\u001b[49m\u001b[38;5;241;43m.\u001b[39;49m\u001b[43mcolumns\u001b[49m\u001b[38;5;241;43m.\u001b[39;49m\u001b[43mget_loc\u001b[49m\u001b[43m(\u001b[49m\u001b[43mcolumn_param\u001b[49m\u001b[43m)\u001b[49m \u001b[38;5;66;03m## ambil index dari kolom pembatas\u001b[39;00m\n\u001b[0;32m     12\u001b[0m     cek_kolom \u001b[38;5;241m=\u001b[39m data\u001b[38;5;241m.\u001b[39mcolumns[index \u001b[38;5;241m+\u001b[39m \u001b[38;5;241m1\u001b[39m:]\n\u001b[0;32m     13\u001b[0m     jumlah_cek_kolom \u001b[38;5;241m=\u001b[39m \u001b[38;5;28mlen\u001b[39m(cek_kolom)\n",
      "File \u001b[1;32mc:\\Users\\SINTA\\AppData\\Local\\Programs\\Python\\Python312\\Lib\\site-packages\\pandas\\core\\indexes\\base.py:3812\u001b[0m, in \u001b[0;36mIndex.get_loc\u001b[1;34m(self, key)\u001b[0m\n\u001b[0;32m   3807\u001b[0m     \u001b[38;5;28;01mif\u001b[39;00m \u001b[38;5;28misinstance\u001b[39m(casted_key, \u001b[38;5;28mslice\u001b[39m) \u001b[38;5;129;01mor\u001b[39;00m (\n\u001b[0;32m   3808\u001b[0m         \u001b[38;5;28misinstance\u001b[39m(casted_key, abc\u001b[38;5;241m.\u001b[39mIterable)\n\u001b[0;32m   3809\u001b[0m         \u001b[38;5;129;01mand\u001b[39;00m \u001b[38;5;28many\u001b[39m(\u001b[38;5;28misinstance\u001b[39m(x, \u001b[38;5;28mslice\u001b[39m) \u001b[38;5;28;01mfor\u001b[39;00m x \u001b[38;5;129;01min\u001b[39;00m casted_key)\n\u001b[0;32m   3810\u001b[0m     ):\n\u001b[0;32m   3811\u001b[0m         \u001b[38;5;28;01mraise\u001b[39;00m InvalidIndexError(key)\n\u001b[1;32m-> 3812\u001b[0m     \u001b[38;5;28;01mraise\u001b[39;00m \u001b[38;5;167;01mKeyError\u001b[39;00m(key) \u001b[38;5;28;01mfrom\u001b[39;00m \u001b[38;5;21;01merr\u001b[39;00m\n\u001b[0;32m   3813\u001b[0m \u001b[38;5;28;01mexcept\u001b[39;00m \u001b[38;5;167;01mTypeError\u001b[39;00m:\n\u001b[0;32m   3814\u001b[0m     \u001b[38;5;66;03m# If we have a listlike key, _check_indexing_error will raise\u001b[39;00m\n\u001b[0;32m   3815\u001b[0m     \u001b[38;5;66;03m#  InvalidIndexError. Otherwise we fall through and re-raise\u001b[39;00m\n\u001b[0;32m   3816\u001b[0m     \u001b[38;5;66;03m#  the TypeError.\u001b[39;00m\n\u001b[0;32m   3817\u001b[0m     \u001b[38;5;28mself\u001b[39m\u001b[38;5;241m.\u001b[39m_check_indexing_error(key)\n",
      "\u001b[1;31mKeyError\u001b[0m: 'Indicator Code'"
     ]
    }
   ],
   "source": [
    "# csv\n",
    "df = population_data_from_csv\n",
    "handle_missing_value_by_column(df)\n",
    "handle_missing_value_by_row(df,'Indicator Code')\n",
    "df['Indicator Name'] = df['Indicator Name'].str.replace('Population, total', 'Population total')\n",
    "df = df.rename(columns={\"Country Name\":\"country_name\",\"Country Code\":\"country_code\",\"Indicator Name\":\"indicator_name\",\"Indicator Code\":\"indicator_code\"})\n",
    "df = df.melt(id_vars=[\"country_name\",\"country_code\",\"indicator_name\",\"indicator_code\"], var_name='year', value_name='population')\n",
    "df = df.sort_values(by=['country_name','year'])\n",
    "population_data_from_csv = df\n",
    "\n",
    "# json\n",
    "df = population_data_from_json\n",
    "handle_missing_value_by_column(df)\n",
    "handle_missing_value_by_row(df,'Indicator Code')\n",
    "df['Indicator Name'] = df['Indicator Name'].str.replace('Population, total', 'Population total')\n",
    "df = df.rename(columns={\"Country Name\":\"country_name\",\"Country Code\":\"country_code\",\"Indicator Name\":\"indicator_name\",\"Indicator Code\":\"indicator_code\"})\n",
    "df = df.melt(id_vars=[\"country_name\",\"country_code\",\"indicator_name\",\"indicator_code\"], var_name='year', value_name='population')\n",
    "df = df.sort_values(by=['country_name', 'year'])\n",
    "population_data_from_json = df\n",
    "\n",
    "# db\n",
    "df = population_data_from_db\n",
    "df = df.drop(columns=['index'])\n",
    "handle_missing_value_by_column(df)\n",
    "handle_missing_value_by_row(df,'Indicator_Code')\n",
    "df['Indicator_Name'] = df['Indicator_Name'].str.replace('Population, total', 'Population total')\n",
    "df = df.rename(columns={\"Country_Name\":\"country_name\",\"Country_Code\":\"country_code\",\"Indicator_Name\":\"indicator_name\",\"Indicator_Code\":\"indicator_code\"})\n",
    "df = df.melt(id_vars=[\"country_name\",\"country_code\",\"indicator_name\",\"indicator_code\"], var_name='year', value_name='population')\n",
    "df = df.sort_values(by=['country_name','year'])\n",
    "population_data_from_db = df\n",
    "\n",
    "# xml\n",
    "df = population_data_from_xml\n",
    "df = df[df['Country or Area'] != ['Not classified','Eritrea','Kuwait','West Bank and Gaza','Serbia','Sint Maarten (Dutch part)']]\n",
    "df['Item'] = df['Item'].str.replace('Population, total', 'Population total')\n",
    "df = df.rename(columns={\"Country or Area\":\"country_name\",\"Country or Area_key\":\"country_code\",\"Item\":\"indicator_name\",\"Item_key\":\"indicator_code\", \"Year\":\"year\",\"Value\": \"population\"})\n",
    "population_data_from_xml = df\n"
   ]
  },
  {
   "cell_type": "markdown",
   "metadata": {},
   "source": [
    "##### 4. gdp_data"
   ]
  },
  {
   "cell_type": "code",
   "execution_count": null,
   "metadata": {},
   "outputs": [],
   "source": [
    "handle_missing_value_by_column(gdp_data)\n",
    "handle_missing_value_by_row(gdp_data, 'Indicator Code')\n",
    "df = gdp_data\n",
    "df = df.rename(columns={\"Country Name\":\"country_name\",\"Country Code\":\"country_code\",\"Indicator Name\":\"indicator_name\",\"Indicator Code\":\"indicator_code\"})\n",
    "df = df.melt(id_vars=[\"country_name\",\"country_code\",\"indicator_name\",\"indicator_code\"], var_name='year', value_name='current_usd')\n",
    "df = df.sort_values(by=['country_name','year'])\n",
    "gdp_data = df\n",
    "# gdp_data\n"
   ]
  },
  {
   "cell_type": "markdown",
   "metadata": {},
   "source": [
    "##### 5. mystery"
   ]
  },
  {
   "cell_type": "code",
   "execution_count": null,
   "metadata": {},
   "outputs": [],
   "source": [
    "df = mystery\n",
    "df = df.drop(columns=['Unnamed: 0'])\n",
    "handle_missing_value_by_column(df)\n",
    "handle_missing_value_by_row(df,'Indicator Code')\n",
    "df['Indicator Name'] = df['Indicator Name'].str.replace('Population, total', 'Population total')\n",
    "df = df.rename(columns={\"Country Name\":\"country_name\",\"Country Code\":\"country_code\",\"Indicator Name\":\"indicator_name\",\"Indicator Code\":\"indicator_code\"})\n",
    "df = df.melt(id_vars=[\"country_name\",\"country_code\",\"indicator_name\",\"indicator_code\"], var_name='year', value_name='population')\n",
    "df = df.sort_values(by=['country_name', 'year'])\n",
    "mystery = df"
   ]
  },
  {
   "cell_type": "markdown",
   "metadata": {},
   "source": [
    "##### 6. projects_data"
   ]
  },
  {
   "cell_type": "code",
   "execution_count": null,
   "metadata": {},
   "outputs": [],
   "source": [
    "## soon"
   ]
  },
  {
   "cell_type": "markdown",
   "metadata": {},
   "source": [
    "#### - Combine Data"
   ]
  },
  {
   "cell_type": "markdown",
   "metadata": {},
   "source": [
    "##### 1. merge rural_population_percent + electricity_access_percent"
   ]
  },
  {
   "cell_type": "code",
   "execution_count": null,
   "metadata": {},
   "outputs": [],
   "source": [
    "combine_electricity_rural = pd.merge(rural_population_percent,electricity_access_precent, how='inner', on=[\"country_name\", \"country_code\", \"year\"], suffixes=('_rural', '_electricity'))\n",
    "combine_electricity_rural"
   ]
  },
  {
   "cell_type": "code",
   "execution_count": null,
   "metadata": {},
   "outputs": [],
   "source": [
    "print(combine_electricity_rural.head())"
   ]
  },
  {
   "cell_type": "markdown",
   "metadata": {},
   "source": [
    "##### 2. concat all data population"
   ]
  },
  {
   "cell_type": "code",
   "execution_count": null,
   "metadata": {},
   "outputs": [],
   "source": [
    "concat_all_population = pd.concat([population_data_from_csv, population_data_from_db, population_data_from_json, mystery])\n",
    "df = concat_all_population\n",
    "df.set_index('country_name', inplace=True)\n",
    "df.sort_values(by=['country_name', 'year'])\n",
    "concat = df.drop_duplicates()\n",
    "concat.to_csv('berhasil.csv')"
   ]
  },
  {
   "cell_type": "markdown",
   "metadata": {},
   "source": [
    "##### 3. merge all population + gdp"
   ]
  },
  {
   "cell_type": "code",
   "execution_count": null,
   "metadata": {},
   "outputs": [],
   "source": [
    "combine_pop_gdp = pd.merge(concat_all_population, gdp_data, how='inner', on=[\"country_name\", \"country_code\", \"year\"],suffixes=['_population','_gdp'])\n",
    "combine_pop_gdp"
   ]
  },
  {
   "cell_type": "markdown",
   "metadata": {},
   "source": [
    "#### - Handle Outliers"
   ]
  },
  {
   "cell_type": "code",
   "execution_count": null,
   "metadata": {},
   "outputs": [],
   "source": [
    "def handle_outliers(data, column):\n",
    "    data = data.sort_values(by=column)\n",
    "    Q1 = data[column].quantile(0.25)\n",
    "    Q3 = data[column].quantile(0.75)\n",
    "    IQR = Q3 - Q1\n",
    "\n",
    "    # Tentukan Batas Bawah dan Batas Atas\n",
    "    lower_bound = Q1 - (1.5 * IQR)\n",
    "    upper_bound = Q3 + (1.5 * IQR)\n",
    "\n",
    "    # Identifikasi outliers\n",
    "    outliers = data[(data[column] < lower_bound) | (data[column] > upper_bound)]\n",
    "\n",
    "    # Hapus outliers dari DataFrame\n",
    "    data = data.drop(outliers.index)\n",
    "\n",
    "    # print(\"DataFrame without outliers:\")\n",
    "    # print(df)\n",
    "    return data"
   ]
  },
  {
   "cell_type": "markdown",
   "metadata": {},
   "source": [
    "##### 1. All data population"
   ]
  },
  {
   "cell_type": "code",
   "execution_count": null,
   "metadata": {},
   "outputs": [],
   "source": [
    "# csv\n",
    "# json\n",
    "# db\n",
    "# xml"
   ]
  },
  {
   "cell_type": "markdown",
   "metadata": {},
   "source": [
    "##### 2. "
   ]
  },
  {
   "cell_type": "code",
   "execution_count": null,
   "metadata": {},
   "outputs": [],
   "source": [
    "# sns.boxplot(electricity_access_precent['electricity_access_percent'])"
   ]
  }
 ],
 "metadata": {
  "kernelspec": {
   "display_name": "Python 3",
   "language": "python",
   "name": "python3"
  },
  "language_info": {
   "codemirror_mode": {
    "name": "ipython",
    "version": 3
   },
   "file_extension": ".py",
   "mimetype": "text/x-python",
   "name": "python",
   "nbconvert_exporter": "python",
   "pygments_lexer": "ipython3",
   "version": "3.12.2"
  }
 },
 "nbformat": 4,
 "nbformat_minor": 2
}
