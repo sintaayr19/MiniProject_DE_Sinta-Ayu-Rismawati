{
 "cells": [
  {
   "cell_type": "markdown",
   "metadata": {},
   "source": [
    "# Import Library"
   ]
  },
  {
   "cell_type": "code",
   "execution_count": 7,
   "metadata": {},
   "outputs": [],
   "source": [
    "import pandas as pd\n",
    "import sqlite3\n",
    "import requests\n",
    "from bs4 import BeautifulSoup"
   ]
  },
  {
   "cell_type": "markdown",
   "metadata": {},
   "source": [
    "# Extract Data"
   ]
  },
  {
   "cell_type": "code",
   "execution_count": 59,
   "metadata": {},
   "outputs": [
    {
     "name": "stderr",
     "output_type": "stream",
     "text": [
      "C:\\Users\\SINTA\\AppData\\Local\\Temp\\ipykernel_26280\\3782938366.py:12: DtypeWarning: Columns (44) have mixed types. Specify dtype option on import or set low_memory=False.\n",
      "  projects_data = pd.read_csv(\"DataSource/projects_data.csv\", quotechar='\"')\n"
     ]
    }
   ],
   "source": [
    "# From csv\n",
    "electricity_access_precent = pd.read_csv('DataSource/electricity_access_precent.csv', quotechar='\"')\n",
    "\n",
    "rural_population_percent = pd.read_csv(\"DataSource/rural_population_percent.csv\", quotechar='\"')\n",
    "\n",
    "gdp_data = pd.read_csv('DataSource/gdp_data.csv', quotechar='\"')\n",
    "\n",
    "mystery = pd.read_csv('DataSource/mystery.csv', quotechar='\"')\n",
    "\n",
    "population_data_from_csv = pd.read_csv('DataSource/population_data.csv', quotechar='\"')\n",
    "\n",
    "projects_data = pd.read_csv(\"DataSource/projects_data.csv\", quotechar='\"')\n",
    "\n",
    "\n",
    "# From json\n",
    "population_data_from_json = pd.read_json('DataSource/population_data.json')\n",
    "\n",
    "\n",
    "# From db\n",
    "conn = sqlite3.connect('DataSource/population_data.db')\n",
    "population_data_from_db = pd.read_sql_query(\"SELECT * FROM population_data;\", conn)\n",
    "conn.close()\n",
    "\n",
    "\n",
    "# From xml\n",
    "with open(\"DataSource/population_data.xml\", \"r\") as f:\n",
    "    xml_data = f.read()\n",
    "\n",
    "soup = BeautifulSoup(xml_data, \"xml\")\n",
    "data = []\n",
    "for record in soup.find_all(\"record\"):\n",
    "    record_data = {}\n",
    "    for field in record.find_all(\"field\"):\n",
    "        name = field.get(\"name\")\n",
    "        value = field.text\n",
    "        record_data[name] = value\n",
    "    data.append(record_data)\n",
    "\n",
    "population_data_from_xml = pd.DataFrame(data)\n",
    "\n",
    "\n",
    "# from API\n",
    "url = f\"https://api.worldbank.org/v2/countries/all/indicators/SP.POP.TOTL/?format=json&per_page=1000\"\n",
    "data = []\n",
    "page = 1\n",
    "total_pages = None\n",
    "\n",
    "while total_pages is None or page <= total_pages:\n",
    "    response = requests.get(url, params={\"page\": page})\n",
    "    response_data = response.json()\n",
    "    if total_pages is None:\n",
    "        total_pages = response_data[0]['pages']\n",
    "    data.extend(response_data[1])\n",
    "    page += 1\n",
    "\n",
    "df_worldbank = pd.json_normalize(data)"
   ]
  },
  {
   "cell_type": "markdown",
   "metadata": {},
   "source": [
    "# Transfrom"
   ]
  },
  {
   "cell_type": "markdown",
   "metadata": {},
   "source": [
    "#### - Cleaning data electricity_access_percent & rural_population_percent"
   ]
  },
  {
   "cell_type": "code",
   "execution_count": 60,
   "metadata": {},
   "outputs": [
    {
     "name": "stdout",
     "output_type": "stream",
     "text": [
      "['Not classified', 'St. Martin (French part)', 'Kosovo']\n"
     ]
    }
   ],
   "source": [
    "### cleaning rural_population_percent\n",
    "index_indicator_code = rural_population_percent.columns.get_loc('Indicator Code')\n",
    "column_after_index = rural_population_percent.columns[index_indicator_code + 1:]\n",
    "empty_row = rural_population_percent[rural_population_percent[column_after_index].isnull().all(axis=1)]\n",
    "delete_country_names = empty_row.loc[:, 'Country Name'].tolist()\n",
    "print(delete_country_names)\n",
    "rural_population_percent = rural_population_percent.drop(empty_row.index)\n",
    "\n",
    "rural_population_percent.drop(columns=[\"Unnamed: 62\"], inplace=True)\n",
    "rural_population_percent = rural_population_percent.fillna(0.000)\n",
    "rural_population_percent.drop(columns=[\"Indicator Name\",\"Indicator Code\"], inplace=True)\n",
    "rural_population_percent = rural_population_percent.rename(columns={'Country Name':'country_name','Country Code':'country_code'})\n",
    "rural_population_percent = rural_population_percent.melt(id_vars=[\"country_name\",\"country_code\"], var_name='year', value_name='rural_population_percent')\n",
    "\n",
    "### cleaning electricity_access_percent\n",
    "for country_name in delete_country_names:\n",
    "    electricity_access_precent = electricity_access_precent[electricity_access_precent['Country Name'] != country_name]\n",
    "    \n",
    "electricity_access_precent.drop(columns=[\"Unnamed: 62\"], inplace=True)\n",
    "electricity_access_precent = electricity_access_precent.fillna(0.000)\n",
    "electricity_access_precent.drop(columns=[\"Indicator Name\",\"Indicator Code\"], inplace=True)\n",
    "electricity_access_precent = electricity_access_precent.rename(columns={'Country Name':'country_name','Country Code':'country_code'})\n",
    "electricity_access_precent = electricity_access_precent.melt(id_vars=[\"country_name\",\"country_code\"], var_name='year', value_name='electricity_access_percent')"
   ]
  },
  {
   "cell_type": "markdown",
   "metadata": {},
   "source": [
    "#### - Merge electricity_access_percent & rural_population_percent"
   ]
  },
  {
   "cell_type": "code",
   "execution_count": 62,
   "metadata": {},
   "outputs": [
    {
     "data": {
      "text/html": [
       "<div>\n",
       "<style scoped>\n",
       "    .dataframe tbody tr th:only-of-type {\n",
       "        vertical-align: middle;\n",
       "    }\n",
       "\n",
       "    .dataframe tbody tr th {\n",
       "        vertical-align: top;\n",
       "    }\n",
       "\n",
       "    .dataframe thead th {\n",
       "        text-align: right;\n",
       "    }\n",
       "</style>\n",
       "<table border=\"1\" class=\"dataframe\">\n",
       "  <thead>\n",
       "    <tr style=\"text-align: right;\">\n",
       "      <th></th>\n",
       "      <th>country_name</th>\n",
       "      <th>country_code</th>\n",
       "      <th>year</th>\n",
       "      <th>rural_population_percent</th>\n",
       "      <th>electricity_access_percent</th>\n",
       "    </tr>\n",
       "  </thead>\n",
       "  <tbody>\n",
       "    <tr>\n",
       "      <th>0</th>\n",
       "      <td>Aruba</td>\n",
       "      <td>ABW</td>\n",
       "      <td>1960</td>\n",
       "      <td>49.224</td>\n",
       "      <td>0.0</td>\n",
       "    </tr>\n",
       "    <tr>\n",
       "      <th>1</th>\n",
       "      <td>Afghanistan</td>\n",
       "      <td>AFG</td>\n",
       "      <td>1960</td>\n",
       "      <td>91.779</td>\n",
       "      <td>0.0</td>\n",
       "    </tr>\n",
       "    <tr>\n",
       "      <th>2</th>\n",
       "      <td>Angola</td>\n",
       "      <td>AGO</td>\n",
       "      <td>1960</td>\n",
       "      <td>89.565</td>\n",
       "      <td>0.0</td>\n",
       "    </tr>\n",
       "    <tr>\n",
       "      <th>3</th>\n",
       "      <td>Albania</td>\n",
       "      <td>ALB</td>\n",
       "      <td>1960</td>\n",
       "      <td>69.295</td>\n",
       "      <td>0.0</td>\n",
       "    </tr>\n",
       "    <tr>\n",
       "      <th>4</th>\n",
       "      <td>Andorra</td>\n",
       "      <td>AND</td>\n",
       "      <td>1960</td>\n",
       "      <td>41.550</td>\n",
       "      <td>0.0</td>\n",
       "    </tr>\n",
       "    <tr>\n",
       "      <th>...</th>\n",
       "      <td>...</td>\n",
       "      <td>...</td>\n",
       "      <td>...</td>\n",
       "      <td>...</td>\n",
       "      <td>...</td>\n",
       "    </tr>\n",
       "    <tr>\n",
       "      <th>15133</th>\n",
       "      <td>Samoa</td>\n",
       "      <td>WSM</td>\n",
       "      <td>2017</td>\n",
       "      <td>81.170</td>\n",
       "      <td>0.0</td>\n",
       "    </tr>\n",
       "    <tr>\n",
       "      <th>15134</th>\n",
       "      <td>Yemen, Rep.</td>\n",
       "      <td>YEM</td>\n",
       "      <td>2017</td>\n",
       "      <td>64.231</td>\n",
       "      <td>0.0</td>\n",
       "    </tr>\n",
       "    <tr>\n",
       "      <th>15135</th>\n",
       "      <td>South Africa</td>\n",
       "      <td>ZAF</td>\n",
       "      <td>2017</td>\n",
       "      <td>34.218</td>\n",
       "      <td>0.0</td>\n",
       "    </tr>\n",
       "    <tr>\n",
       "      <th>15136</th>\n",
       "      <td>Zambia</td>\n",
       "      <td>ZMB</td>\n",
       "      <td>2017</td>\n",
       "      <td>58.160</td>\n",
       "      <td>0.0</td>\n",
       "    </tr>\n",
       "    <tr>\n",
       "      <th>15137</th>\n",
       "      <td>Zimbabwe</td>\n",
       "      <td>ZWE</td>\n",
       "      <td>2017</td>\n",
       "      <td>67.793</td>\n",
       "      <td>0.0</td>\n",
       "    </tr>\n",
       "  </tbody>\n",
       "</table>\n",
       "<p>15138 rows × 5 columns</p>\n",
       "</div>"
      ],
      "text/plain": [
       "       country_name country_code  year  rural_population_percent  \\\n",
       "0             Aruba          ABW  1960                    49.224   \n",
       "1       Afghanistan          AFG  1960                    91.779   \n",
       "2            Angola          AGO  1960                    89.565   \n",
       "3           Albania          ALB  1960                    69.295   \n",
       "4           Andorra          AND  1960                    41.550   \n",
       "...             ...          ...   ...                       ...   \n",
       "15133         Samoa          WSM  2017                    81.170   \n",
       "15134   Yemen, Rep.          YEM  2017                    64.231   \n",
       "15135  South Africa          ZAF  2017                    34.218   \n",
       "15136        Zambia          ZMB  2017                    58.160   \n",
       "15137      Zimbabwe          ZWE  2017                    67.793   \n",
       "\n",
       "       electricity_access_percent  \n",
       "0                             0.0  \n",
       "1                             0.0  \n",
       "2                             0.0  \n",
       "3                             0.0  \n",
       "4                             0.0  \n",
       "...                           ...  \n",
       "15133                         0.0  \n",
       "15134                         0.0  \n",
       "15135                         0.0  \n",
       "15136                         0.0  \n",
       "15137                         0.0  \n",
       "\n",
       "[15138 rows x 5 columns]"
      ]
     },
     "execution_count": 62,
     "metadata": {},
     "output_type": "execute_result"
    }
   ],
   "source": [
    "combine_electricity_rural = pd.merge(rural_population_percent,electricity_access_precent, how='left', on=[\"country_name\", \"country_code\", \"year\"])\n",
    "combine_electricity_rural"
   ]
  },
  {
   "cell_type": "markdown",
   "metadata": {},
   "source": [
    "#### - Cleaning all data population (csv,json,db,xml)"
   ]
  },
  {
   "cell_type": "code",
   "execution_count": null,
   "metadata": {},
   "outputs": [],
   "source": []
  }
 ],
 "metadata": {
  "kernelspec": {
   "display_name": "Python 3",
   "language": "python",
   "name": "python3"
  },
  "language_info": {
   "codemirror_mode": {
    "name": "ipython",
    "version": 3
   },
   "file_extension": ".py",
   "mimetype": "text/x-python",
   "name": "python",
   "nbconvert_exporter": "python",
   "pygments_lexer": "ipython3",
   "version": "3.12.2"
  }
 },
 "nbformat": 4,
 "nbformat_minor": 2
}
