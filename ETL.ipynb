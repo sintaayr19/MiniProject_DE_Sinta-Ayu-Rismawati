{
 "cells": [
  {
   "cell_type": "markdown",
   "metadata": {},
   "source": [
    "# Import Library"
   ]
  },
  {
   "cell_type": "code",
   "execution_count": 2,
   "metadata": {},
   "outputs": [],
   "source": [
    "import pandas as pd\n",
    "import xml.etree.ElementTree as ET\n",
    "import sqlite3\n",
    "import requests\n",
    "from bs4 import BeautifulSoup"
   ]
  },
  {
   "cell_type": "markdown",
   "metadata": {},
   "source": [
    "# Extract Data"
   ]
  },
  {
   "cell_type": "code",
   "execution_count": 24,
   "metadata": {},
   "outputs": [
    {
     "name": "stderr",
     "output_type": "stream",
     "text": [
      "C:\\Users\\SINTA\\AppData\\Local\\Temp\\ipykernel_22812\\982839820.py:10: DtypeWarning: Columns (44) have mixed types. Specify dtype option on import or set low_memory=False.\n",
      "  projects_data = pd.read_csv(\"DataSource/projects_data.csv\", quotechar='\"')\n"
     ]
    }
   ],
   "source": [
    "# From csv\n",
    "electricity_access_precent = pd.read_csv('DataSource/electricity_access_precent.csv', quotechar='\"')\n",
    "\n",
    "gdp_data = pd.read_csv('DataSource/gdp_data.csv', quotechar='\"')\n",
    "\n",
    "mystery = pd.read_csv('DataSource/mystery.csv', quotechar='\"')\n",
    "\n",
    "population_data_from_csv = pd.read_csv('DataSource/population_data.csv', quotechar='\"')\n",
    "\n",
    "projects_data = pd.read_csv(\"DataSource/projects_data.csv\", quotechar='\"')\n",
    "\n",
    "rual_population_percent = pd.read_csv(\"DataSource/rual_population_percent.csv\", quotechar='\"')\n",
    "\n",
    "# From json\n",
    "population_data_from_json = pd.read_json('DataSource/population_data.json')\n",
    "\n",
    "# From db\n",
    "conn = sqlite3.connect('DataSource/population_data.db')\n",
    "population_data_from_db = pd.read_sql_query(\"SELECT * FROM population_data;\", conn)\n",
    "conn.close()\n",
    "\n",
    "# from API\n",
    "url = f\"https://api.worldbank.org/v2/countries/all/indicators/SP.POP.TOTL/?format=json&per_page=1000\"\n",
    "data = []\n",
    "page = 1\n",
    "total_pages = None\n",
    "\n",
    "while total_pages is None or page <= total_pages:\n",
    "    response = requests.get(url, params={\"page\": page})\n",
    "    response_data = response.json()\n",
    "    if total_pages is None:\n",
    "        total_pages = response_data[0]['pages']\n",
    "    data.extend(response_data[1])\n",
    "    page += 1\n",
    "\n",
    "df_worldbank = pd.DataFrame(data)\n",
    "\n",
    "# From xml\n",
    "with open(\"DataSource/population_data.xml\", \"r\") as f:\n",
    "    xml_data = f.read()\n",
    "\n",
    "soup = BeautifulSoup(xml_data, \"xml\")\n",
    "data = []\n",
    "for record in soup.find_all(\"record\"):\n",
    "    record_data = {}\n",
    "    for field in record.find_all(\"field\"):\n",
    "        name = field.get(\"name\")\n",
    "        value = field.text\n",
    "        record_data[name] = value\n",
    "    data.append(record_data)\n",
    "\n",
    "population_data_from_xml = pd.DataFrame(data)"
   ]
  }
 ],
 "metadata": {
  "kernelspec": {
   "display_name": "Python 3",
   "language": "python",
   "name": "python3"
  },
  "language_info": {
   "codemirror_mode": {
    "name": "ipython",
    "version": 3
   },
   "file_extension": ".py",
   "mimetype": "text/x-python",
   "name": "python",
   "nbconvert_exporter": "python",
   "pygments_lexer": "ipython3",
   "version": "3.12.2"
  }
 },
 "nbformat": 4,
 "nbformat_minor": 2
}
