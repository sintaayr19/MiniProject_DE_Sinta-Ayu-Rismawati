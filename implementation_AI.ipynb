{
 "cells": [
  {
   "cell_type": "code",
   "execution_count": 1,
   "metadata": {},
   "outputs": [
    {
     "name": "stderr",
     "output_type": "stream",
     "text": [
      "c:\\Users\\SINTA\\AppData\\Local\\Programs\\Python\\Python312\\Lib\\site-packages\\tqdm\\auto.py:21: TqdmWarning: IProgress not found. Please update jupyter and ipywidgets. See https://ipywidgets.readthedocs.io/en/stable/user_install.html\n",
      "  from .autonotebook import tqdm as notebook_tqdm\n"
     ]
    }
   ],
   "source": [
    "import yaml\n",
    "import google.generativeai as genai"
   ]
  },
  {
   "cell_type": "code",
   "execution_count": 2,
   "metadata": {},
   "outputs": [],
   "source": [
    "with open('gemini_key.yaml', 'r') as file:\n",
    "    api_creds = yaml.safe_load(file)\n",
    "\n",
    "GOOGLE_API_KEY = api_creds['gemini_key']\n",
    "\n",
    "genai.configure(api_key=GOOGLE_API_KEY)\n",
    "model = genai.GenerativeModel('gemini-pro')"
   ]
  },
  {
   "cell_type": "code",
   "execution_count": 3,
   "metadata": {},
   "outputs": [
    {
     "name": "stdout",
     "output_type": "stream",
     "text": [
      "**Analisis Deskriptif**\n",
      "\n",
      "Grafik perbandingan PDB per kapita menunjukkan tren berikut:\n",
      "\n",
      "* **Indonesia** memiliki PDB per kapita tertinggi pada tahun 2000 (sekitar $3.500) dan mengalami pertumbuhan yang stabil hingga 2008. Namun, terjadi penurunan tajam pada tahun 2009 akibat krisis keuangan global. Pertumbuhan PDB per kapita Indonesia kembali meningkat setelahnya, namun masih di bawah level sebelum krisis.\n",
      "* **Filipina** memiliki PDB per kapita yang lebih rendah dibandingkan Indonesia pada tahun 2000 (sekitar $2.500). Namun, Filipina telah mengalami pertumbuhan yang lebih cepat, terutama setelah tahun 2010. PDB per kapita Filipina melampaui Indonesia pada tahun 2018 dan terus tumbuh hingga saat ini.\n",
      "* **Vietnam** memiliki PDB per kapita terendah pada tahun 2000 (sekitar $1.500). Namun, Vietnam telah mengalami pertumbuhan PDB per kapita yang paling pesat di antara ketiga negara tersebut. PDB per kapita Vietnam melampaui Filipina pada tahun 2014 dan terus tumbuh dengan cepat, bahkan melampaui Indonesia pada tahun 2022.\n",
      "\n",
      "**Insight**\n",
      "\n",
      "Grafik tersebut memberikan beberapa insight penting:\n",
      "\n",
      "* **Pertumbuhan Ekonomi Vietnam:** Vietnam telah mengalami pertumbuhan ekonomi yang pesat dalam beberapa dekade terakhir, dengan PDB per kapita tumbuh lebih dari dua kali lipat sejak tahun 2000. Hal ini menunjukkan bahwa Vietnam telah berhasil menerapkan kebijakan ekonomi yang efektif dan menumbuhkan sektor-sektor penting seperti manufaktur dan pariwisata.\n",
      "* **Kinerja Ekonomi Indonesia:** Indonesia telah mengalami pertumbuhan PDB per kapita yang relatif stabil, namun terhambat oleh krisis keuangan global pada tahun 2009. Indonesia perlu terus melakukan reformasi ekonomi untuk mendorong pertumbuhan dan mengurangi kesenjangan.\n",
      "* **Peluang bagi Filipina:** Filipina memiliki potensi untuk terus tumbuh secara ekonomi. Dengan PDB per kapita yang meningkat dan populasi muda, Filipina dapat menarik investasi dan mengembangkan sektor-sektor pertumbuhan baru.\n",
      "* **Persaingan Regional:** Ketiga negara tersebut bersaing untuk menarik investasi dan mendorong pertumbuhan ekonomi. Pertumbuhan yang pesat di Vietnam dapat menciptakan tantangan bagi Indonesia dan Filipina, sehingga mereka perlu berinovasi dan menemukan keunggulan kompetitif mereka.\n",
      "* **Tantangan di Masa Depan:** Ketiga negara tersebut menghadapi tantangan di masa depan, seperti pandemi COVID-19 dan perubahan iklim. Mereka perlu mengelola tantangan ini dengan efektif untuk memastikan pertumbuhan ekonomi yang berkelanjutan.\n"
     ]
    }
   ],
   "source": [
    "response = model.generate_content(\"Dari data {data_to_analyze.csv} dihasilkan grafik perbandingan gdp per capita dari 3 negara (Indonesia, Philippines, Vietnam) berikut {comparison_graphic.png}. Berikan analisis dsekriptif serta insight dari grafik tersebut\")\n",
    "print(response.text)"
   ]
  },
  {
   "cell_type": "code",
   "execution_count": 4,
   "metadata": {},
   "outputs": [
    {
     "name": "stdout",
     "output_type": "stream",
     "text": [
      "**Analisis Deskriptif**\n",
      "\n",
      "Matriks korelasi menunjukkan kekuatan dan arah hubungan antara variabel. Koefisien korelasi berkisar dari -1 hingga 1, dengan:\n",
      "\n",
      "* **1:** Korelasi positif yang sempurna\n",
      "* **0:** Tidak ada korelasi\n",
      "* **-1:** Korelasi negatif yang sempurna\n",
      "\n",
      "**Insight**\n",
      "\n",
      "* **Indonesia:**\n",
      "    * **Population** memiliki korelasi positif yang kuat dengan **GDP** (0,78) dan **Rural_population_percent** (0,63).\n",
      "    * **GDP** memiliki korelasi positif yang moderat dengan **Electricity_access_percent** (0,49).\n",
      "    * **GDP** memiliki korelasi negatif yang moderat dengan **Project_cost** (-0,46).\n",
      "\n",
      "* **Philippines:**\n",
      "    * **Population** memiliki korelasi positif yang kuat dengan **GDP** (0,92).\n",
      "    * **GDP** memiliki korelasi positif yang kuat dengan **Electricity_access_percent** (0,82).\n",
      "    * **GDP_per_capita** memiliki korelasi negatif yang lemah dengan **Project_cost** (-0,29).\n",
      "\n",
      "* **Vietnam:**\n",
      "    * **Population** memiliki korelasi positif yang kuat dengan **GDP** (0,93) dan **Rural_population_percent** (0,86).\n",
      "    * **GDP** memiliki korelasi positif yang kuat dengan **Electricity_access_percent** (0,80).\n",
      "    * **Project_cost** memiliki korelasi negatif yang lemah dengan **GDP_per_capita** (-0,24).\n",
      "\n",
      "Secara umum, matriks korelasi menunjukkan hubungan yang kuat antara variabel berikut:\n",
      "\n",
      "* **Population** dan **GDP**\n",
      "* **GDP** dan **Electricity_access_percent**\n",
      "\n",
      "Ini menunjukkan bahwa negara dengan populasi yang lebih besar cenderung memiliki PDB yang lebih tinggi dan akses listrik yang lebih baik.\n",
      "\n",
      "Selain itu, terdapat korelasi negatif yang moderat antara **GDP** dan **Project_cost** untuk Indonesia dan Vietnam. Ini menunjukkan bahwa negara-negara dengan PDB lebih tinggi mungkin dapat melaksanakan proyek dengan biaya lebih rendah.\n",
      "\n",
      " korelasi antara **GDP_per_capita** dan **Project_cost** lemah dan negatif untuk Filipina dan Vietnam. Ini menunjukkan bahwa mungkin tidak ada hubungan yang jelas antara kekayaan per kapita dan biaya proyek di negara-negara ini.\n"
     ]
    }
   ],
   "source": [
    "response = model.generate_content(\"Dari data {data_to_analyze.csv} dihasilkan correlation matrix dari 3 negara (Indonesia, Philippines, Vietnam) dengan variable population, gdp, rural_population_percent, electricity_access_percent, project_cost, gdp_per_capita {correlation_matrix.png}. berikan anaisis deskritif dan insight dari grafik tersebut\")\n",
    "print(response.text)"
   ]
  },
  {
   "cell_type": "code",
   "execution_count": 5,
   "metadata": {},
   "outputs": [
    {
     "name": "stdout",
     "output_type": "stream",
     "text": [
      "**Analisis Deskriptif**\n",
      "\n",
      "Grafik yang disajikan menunjukkan tren GDP per kapita (pendapatan domestik bruto per orang) dari tiga negara Asia Tenggara: Indonesia, Filipina, dan Vietnam. Grafik ini mencakup data dari tahun 1990 hingga 2020.\n",
      "\n",
      "* **Indonesia:** GDP per kapita Indonesia mengalami pertumbuhan yang relatif stabil selama periode tersebut, dengan tingkat pertumbuhan rata-rata sekitar 4,5% per tahun. Namun, pada tahun 1998, Indonesia mengalami krisis keuangan yang berdampak signifikan pada perekonomian, menyebabkan penurunan tajam pada GDP per kapita.\n",
      "* **Filipina:** GDP per kapita Filipina juga mengalami pertumbuhan yang stabil, tetapi pada tingkat yang lebih cepat dibandingkan Indonesia, sekitar 5,1% per tahun. Pertumbuhan ini didorong oleh industri jasa dan remitansi dari pekerja Filipina di luar negeri.\n",
      "* **Vietnam:** GDP per kapita Vietnam menunjukkan pertumbuhan yang paling pesat di antara ketiganya, dengan tingkat pertumbuhan rata-rata sekitar 6,5% per tahun. Pertumbuhan ini terutama didorong oleh sektor manufaktur dan ekspor.\n",
      "\n",
      "**Insight**\n",
      "\n",
      "Grafik menunjukkan bahwa Vietnam telah menjadi pertumbuhan ekonomi terkuat di antara ketiganya dalam beberapa tahun terakhir. Hal ini menunjukkan bahwa Vietnam telah berhasil menarik investasi asing dan menciptakan lapangan kerja baru.\n",
      "\n",
      "Meskipun Indonesia dan Filipina juga mengalami pertumbuhan yang positif, mereka menghadapi tantangan yang lebih besar dalam mempertahankan tingkat pertumbuhan tinggi dalam jangka panjang. Indonesia bergantung pada komoditas, yang dapat menyebabkan fluktuasi ekonomi. Filipina menghadapi tantangan kemiskinan dan kesenjangan yang tinggi, yang dapat menghambat pertumbuhan ekonomi.\n",
      "\n",
      "Untuk mempertahankan pertumbuhan ekonomi yang tinggi, Indonesia dan Filipina perlu mendiversifikasi perekonomian mereka, mendorong investasi asing, dan meningkatkan kualitas pendidikan dan keterampilan tenaga kerja. Vietnam dapat terus menarik investasi asing dan memperluas basis ekspornya untuk mempertahankan pertumbuhan ekonomi.\n"
     ]
    }
   ],
   "source": [
    "response = model.generate_content(\"Dari data berikut {data_to_analyze.csv} dihasilkan grafik tren gdp per capita dari 3 negara (Indonesia, Philippines, Vietnam), berikut adalah grafiknya {tren_graphic.png}. berikan anaisis deskriptif dan insight dari grafik tersebut\")\n",
    "print(response.text)"
   ]
  },
  {
   "cell_type": "code",
   "execution_count": 6,
   "metadata": {},
   "outputs": [
    {
     "name": "stdout",
     "output_type": "stream",
     "text": [
      "**Analisis Deskriptif**\n",
      "\n",
      "Grafik distribusi menunjukkan distribusi variabel untuk tiga negara: Indonesia, Filipina, dan Vietnam.\n",
      "\n",
      "* **Populasi:** Indonesia memiliki populasi terbesar, diikuti oleh Filipina dan Vietnam.\n",
      "* **PDB:** Indonesia juga memiliki PDB terbesar, diikuti oleh Filipina dan Vietnam. PDB per kapita Vietnam lebih tinggi dari Filipina, menunjukkan distribusi pendapatan yang lebih merata.\n",
      "* **Persentase Penduduk Pedesaan:** Vietnam memiliki persentase penduduk pedesaan tertinggi, diikuti oleh Filipina dan Indonesia.\n",
      "* **Persentase Akses Listrik:** Vietnam memiliki persentase akses listrik tertinggi, diikuti oleh Filipina dan Indonesia.\n",
      "* **Biaya Proyek:** Biaya proyek lebih bervariasi di Vietnam, dengan beberapa proyek sangat mahal dan beberapa relatif murah.\n",
      "* **PDB per Kapita:** PDB per kapita Vietnam lebih tinggi dari Filipina, menunjukkan tingkat pembangunan ekonomi yang lebih maju.\n",
      "\n",
      "**Insight**\n",
      "\n",
      "Variabel menunjukkan tren dan perbedaan berikut di antara tiga negara:\n",
      "\n",
      "* Indonesia memiliki populasi dan PDB terbesar, tetapi PDB per kapita yang lebih rendah, menunjukkan kesenjangan pendapatan yang lebih besar.\n",
      "* Vietnam memiliki tingkat akses listrik dan PDB per kapita yang lebih tinggi, menunjukkan perkembangan ekonomi yang lebih pesat.\n",
      "* Filipina memiliki PDB per kapita yang lebih rendah dari Vietnam, tetapi persentase penduduk pedesaan yang lebih tinggi, menunjukkan pembangunan yang tidak merata antara daerah perkotaan dan pedesaan.\n",
      "* Biaya proyek bervariasi secara signifikan di Vietnam, yang mungkin mencerminkan perbedaan dalam prioritas dan strategi investasi.\n",
      "* Persentase akses listrik yang tinggi di Vietnam menunjukkan bahwa negara tersebut telah membuat kemajuan yang signifikan dalam menyediakan infrastruktur dasar.\n"
     ]
    }
   ],
   "source": [
    "response = model.generate_content(\"Dari data berikut {data_to_analyze.csv} dihasilkan grafik distribusi dari 3 negara (Indonesia, Philippines, Vietnam) dengan variable population, gdp, rural_population_percent, electricity_access_percent, project_cost, gdp_per_capita, berikut adalah grafiknya {Distribution_of_Variales.png}. berikan anaisis deskriptif dan insight dari grafik tersebut\")\n",
    "print(response.text)"
   ]
  }
 ],
 "metadata": {
  "kernelspec": {
   "display_name": "Python 3",
   "language": "python",
   "name": "python3"
  },
  "language_info": {
   "codemirror_mode": {
    "name": "ipython",
    "version": 3
   },
   "file_extension": ".py",
   "mimetype": "text/x-python",
   "name": "python",
   "nbconvert_exporter": "python",
   "pygments_lexer": "ipython3",
   "version": "3.12.2"
  }
 },
 "nbformat": 4,
 "nbformat_minor": 2
}
