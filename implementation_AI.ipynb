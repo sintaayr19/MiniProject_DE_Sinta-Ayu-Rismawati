{
 "cells": [
  {
   "cell_type": "code",
   "execution_count": 1,
   "metadata": {},
   "outputs": [
    {
     "name": "stderr",
     "output_type": "stream",
     "text": [
      "c:\\Users\\SINTA\\AppData\\Local\\Programs\\Python\\Python312\\Lib\\site-packages\\tqdm\\auto.py:21: TqdmWarning: IProgress not found. Please update jupyter and ipywidgets. See https://ipywidgets.readthedocs.io/en/stable/user_install.html\n",
      "  from .autonotebook import tqdm as notebook_tqdm\n"
     ]
    }
   ],
   "source": [
    "import yaml\n",
    "import google.generativeai as genai"
   ]
  },
  {
   "cell_type": "code",
   "execution_count": 3,
   "metadata": {},
   "outputs": [],
   "source": [
    "with open('gemini_key.yaml', 'r') as file:\n",
    "    api_creds = yaml.safe_load(file)\n",
    "\n",
    "GOOGLE_API_KEY = api_creds['gemini_key']\n",
    "\n",
    "genai.configure(api_key=GOOGLE_API_KEY)\n",
    "model = genai.GenerativeModel('gemini-pro')"
   ]
  },
  {
   "cell_type": "code",
   "execution_count": 7,
   "metadata": {},
   "outputs": [
    {
     "name": "stdout",
     "output_type": "stream",
     "text": [
      "**Analisis Deskriptif**\n",
      "\n",
      "Grafik perbandingan PDB per kapita dari Indonesia, Filipina, dan Vietnam menunjukkan tren berikut:\n",
      "\n",
      "* **Indonesia:** PDB per kapitanya meningkat secara bertahap sepanjang periode yang diamati, dari sekitar USD 3.000 pada tahun 2000 menjadi sedikit di bawah USD 5.000 pada tahun 2022.\n",
      "* **Filipina:** PDB per kapitanya juga mengalami peningkatan bertahap, dari sekitar USD 2.500 pada tahun 2000 menjadi sekitar USD 4.000 pada tahun 2022.\n",
      "* **Vietnam:** PDB per kapitanya menunjukkan pertumbuhan paling cepat, meningkat dari sekitar USD 2.000 pada tahun 2000 menjadi melebihi USD 4.000 pada tahun 2022.\n",
      "\n",
      "**Insight**\n",
      "\n",
      "* **Indonesia dan Filipina memiliki PDB per kapita yang serupa:** Kedua negara tersebut memiliki PDB per kapita yang berada dalam kisaran yang sama sepanjang periode yang diamati, menunjukkan tingkat pembangunan ekonomi yang sebanding.\n",
      "* **Pertumbuhan PDB per kapita Vietnam yang luar biasa:** Vietnam mengalami pertumbuhan PDB per kapita yang paling pesat di antara ketiga negara tersebut, menandakan kemajuan ekonomi yang signifikan dan peningkatan standar hidup.\n",
      "* **Kesenjangan PDB per kapita terus menyempit:** Meskipun Vietnam masih memiliki PDB per kapita yang lebih rendah daripada Indonesia dan Filipina, kesenjangan tersebut telah menyempit secara signifikan selama bertahun-tahun.\n",
      "* **Prospek pertumbuhan ekonomi masa depan:** Ketiga negara tersebut terus mengalami pertumbuhan ekonomi, yang menjanjikan peningkatan lebih lanjut dalam PDB per kapita dan kesejahteraan masyarakat.\n",
      "* **Tantangan bagi Indonesia dan Filipina:** Indonesia dan Filipina perlu menjaga pertumbuhan ekonomi mereka dan mengatasi tantangan seperti korupsi dan kesenjangan untuk mengejar ketinggalan Vietnam dan meningkatkan standar hidup masyarakat mereka.\n"
     ]
    }
   ],
   "source": [
    "response = model.generate_content(\"Dari data {data_to_analyze} dihasilkan grafik perbandingan gdp per capita dari 3 negara (Indonesia, Philippines, Vietnam) berikut {comparison_graphic.png}. Berikan analisis dsekriptif serta insight dari grafik tersebut\")\n",
    "print(response.text)"
   ]
  },
  {
   "cell_type": "code",
   "execution_count": 6,
   "metadata": {},
   "outputs": [
    {
     "name": "stdout",
     "output_type": "stream",
     "text": [
      "**Analisis Deskriptif dan Insight dari Correlation Matrix**\n",
      "\n",
      "**Korelasi Positif:**\n",
      "\n",
      "* **Indonesia:**\n",
      "    * Populasi dan GDP (0,95)\n",
      "    * Populasi dan akses listrik (0,85)\n",
      "    * GDP dan akses listrik (0,91)\n",
      "* **Philippines:**\n",
      "    * Populasi dan GDP (0,92)\n",
      "    * Populasi dan akses listrik (0,84)\n",
      "    * GDP dan akses listrik (0,92)\n",
      "* **Vietnam:**\n",
      "    * Populasi dan GDP (0,94)\n",
      "    * Populasi dan akses listrik (0,89)\n",
      "    * GDP dan akses listrik (0,93)\n",
      "\n",
      "Korelasi positif yang kuat antara variabel-variabel ini menunjukkan bahwa peningkatan pada satu variabel cenderung dikaitkan dengan peningkatan pada variabel lainnya. Misalnya, peningkatan populasi berdampak pada pertumbuhan GDP dan akses listrik.\n",
      "\n",
      "**Korelasi Negatif:**\n",
      "\n",
      "* **Philippines dan Vietnam:**\n",
      "    * Populasi dan persentase penduduk pedesaan (-0,86)\n",
      "    * GDP dan persentase penduduk pedesaan (-0,82)\n",
      "    * Akses listrik dan persentase penduduk pedesaan (-0,78)\n",
      "\n",
      "Korelasi negatif yang kuat ini menunjukkan bahwa penurunan pada satu variabel cenderung dikaitkan dengan peningkatan pada variabel lainnya. Misalnya, penurunan persentase penduduk pedesaan berdampak pada peningkatan populasi, GDP, dan akses listrik.\n",
      "\n",
      "**Korelasi Lemah:**\n",
      "\n",
      "* **Indonesia:**\n",
      "    * Biaya proyek dan variabel lainnya\n",
      "    * PDB per kapita dan variabel lainnya\n",
      "* **Philippines:**\n",
      "    * Biaya proyek dan akses listrik\n",
      "    * GDP per kapita dan variabel lainnya\n",
      "* **Vietnam:**\n",
      "    * Biaya proyek dan populasi\n",
      "    * GDP per kapita dan akses listrik\n",
      "\n",
      "Korelasi yang lemah menunjukkan tidak adanya hubungan yang jelas antara variabel-variabel tersebut.\n",
      "\n",
      "**Insight:**\n",
      "\n",
      "* **Indonesia, Filipina, dan Vietnam:** Ketiga negara menunjukkan hubungan positif yang kuat antara populasi, GDP, dan akses listrik. Hal ini menunjukkan bahwa peningkatan populasi dapat mendorong pertumbuhan ekonomi dan akses infrastruktur.\n",
      "* **Filipina dan Vietnam:** Korelasi negatif yang kuat antara persentase penduduk pedesaan dan variabel lainnya menunjukkan peran penting perkembangan perkotaan dalam pertumbuhan ekonomi dan akses listrik.\n",
      "* **Indonesia:** Korelasi lemah antara biaya proyek dan variabel lainnya menunjukkan perlunya analisis lebih lanjut untuk memahami faktor-faktor yang memengaruhi biaya proyek.\n",
      "* **Vietnam:** Korelasi lemah antara PIB per kapita dan akses listrik menunjukkan kemungkinan kesenjangan dalam akses listrik di kalangan masyarakat berpenghasilan tinggi.\n"
     ]
    }
   ],
   "source": [
    "response = model.generate_content(\"Dari data {data_to_analyze.csv} dihasilkan correlation matrix dari 3 negara (Indonesia, Philippines, Vietnam) dengan variable population, gdp, rural_population_percent, electricity_access_percent, project_cost, gdp_per_capita {correlation_matrix.png}. berikan anaisis deskritif dan insight dari grafik tersebut\")\n",
    "print(response.text)"
   ]
  },
  {
   "cell_type": "code",
   "execution_count": 5,
   "metadata": {},
   "outputs": [
    {
     "name": "stdout",
     "output_type": "stream",
     "text": [
      "**Grafik Tren PDB per Kapita**\n",
      "\n",
      "Grafik ini menunjukkan tren PDB per kapita untuk tiga negara Asia Tenggara: Indonesia, Filipina, dan Vietnam.\n",
      "\n",
      "**Analisis Deskriptif**\n",
      "\n",
      "* **Indonesia:** PDB per kapita Indonesia terus meningkat selama periode yang diteliti, menunjukkan pertumbuhan ekonomi yang stabil.\n",
      "* **Filipina:** PDB per kapita Filipina juga meningkat, namun dengan laju yang lebih lambat dibandingkan Indonesia.\n",
      "* **Vietnam:** PDB per kapita Vietnam mengalami pertumbuhan tertinggi di antara ketiga negara, meningkat secara signifikan selama periode yang diteliti.\n",
      "\n",
      "**Insight**\n",
      "\n",
      "* **Pertumbuhan Ekonomi:** Ketiga negara menunjukkan pertumbuhan ekonomi yang positif, dibuktikan dengan peningkatan PDB per kapita mereka. Hal ini dapat dikaitkan dengan faktor-faktor seperti peningkatan investasi, industrialisasi, dan ekspor.\n",
      "* **Dominasi Vietnam:** Vietnam mengalami pertumbuhan PDB per kapita yang paling menonjol, menunjukkan bahwa negara tersebut telah membuat kemajuan ekonomi yang signifikan. Hal ini dapat disebabkan oleh reformasi ekonomi, perdagangan internasional, dan investasi asing langsung.\n",
      "* **Kesenjangan:** Meskipun ketiga negara menunjukkan pertumbuhan ekonomi, terdapat kesenjangan yang cukup besar dalam PDB per kapita mereka. Vietnam memiliki PDB per kapita tertinggi, diikuti oleh Indonesia dan Filipina.\n",
      "* **Peluang Pertumbuhan:** Trend pertumbuhan yang positif menunjukkan adanya peluang pertumbuhan ekonomi yang berkelanjutan di ketiga negara. Dengan terus berinvestasi pada infrastruktur, pendidikan, dan inovasi, mereka dapat lebih meningkatkan kesejahteraan ekonomi warganya.\n",
      "* **Tantangan:** Namun, ketiga negara masih menghadapi tantangan seperti kemiskinan, kesenjangan pendapatan, dan inflasi. Mengatasi tantangan ini sangat penting untuk memastikan pertumbuhan ekonomi yang berkelanjutan dan inklusif.\n"
     ]
    }
   ],
   "source": [
    "response = model.generate_content(\"Dari data berikut {data_to_analyze.csv} dihasilkan grafik tren gdp per capita dari 3 negara (Indonesia, Philippines, Vietnam), berikut adalah grafiknya {tren_graphic.png}. berikan anaisis deskriptif dan insight dari grafik tersebut\")\n",
    "print(response.text)"
   ]
  },
  {
   "cell_type": "code",
   "execution_count": 4,
   "metadata": {},
   "outputs": [
    {
     "name": "stdout",
     "output_type": "stream",
     "text": [
      "**Analisis Deskriptif**\n",
      "\n",
      "**Population**\n",
      "\n",
      "* Indonesia memiliki populasi terbesar (sekitar 270 juta), diikuti oleh Filipina (sekitar 110 juta), dan Vietnam (sekitar 98 juta).\n",
      "* Filipina memiliki variasi populasi terkecil, sementara Vietnam memiliki variasi terbesar.\n",
      "\n",
      "**GDP**\n",
      "\n",
      "* Indonesia memiliki PDB tertinggi (sekitar $1,1 triliun), diikuti oleh Filipina (sekitar $395 miliar), dan Vietnam (sekitar $340 miliar).\n",
      "* Vietnam memiliki variasi PDB terbesar, sementara Indonesia memiliki variasi terkecil.\n",
      "\n",
      "**Rural Population Percent**\n",
      "\n",
      "* Indonesia dan Filipina memiliki persentase penduduk pedesaan yang tinggi (sekitar 50%), sementara Vietnam memiliki persentase yang lebih rendah (sekitar 35%).\n",
      "* Indonesia memiliki variasi persentase penduduk pedesaan terkecil, sementara Filipina memiliki variasi terbesar.\n",
      "\n",
      "**Electricity Access Percent**\n",
      "\n",
      "* Indonesia memiliki persentase akses listrik tertinggi (sekitar 99%), diikuti oleh Vietnam (sekitar 97%), dan Filipina (sekitar 94%).\n",
      "* Filipina memiliki variasi persentase akses listrik terkecil, sementara Indonesia memiliki variasi terbesar.\n",
      "\n",
      "**Project Cost**\n",
      "\n",
      "* Filipina memiliki biaya proyek tertinggi (sekitar $120 juta), diikuti oleh Indonesia (sekitar $90 juta), dan Vietnam (sekitar $60 juta).\n",
      "* Vietnam memiliki variasi biaya proyek terkecil, sementara Filipina memiliki variasi terbesar.\n",
      "\n",
      "**GDP Per Capita**\n",
      "\n",
      "* Indonesia memiliki PDB per kapita tertinggi (sekitar $4.000), diikuti oleh Vietnam (sekitar $2.700), dan Filipina (sekitar $2.500).\n",
      "* Filipina memiliki variasi PDB per kapita terkecil, sementara Vietnam memiliki variasi terbesar.\n",
      "\n",
      "**Insight**\n",
      "\n",
      "* Populasi Indonesia yang besar dan PDB yang tinggi menjadikannya pasar yang menarik untuk investasi.\n",
      "* Filipina memiliki persentase akses listrik yang tinggi, menunjukkan tingkat pembangunan yang relatif tinggi.\n",
      "* Vietnam memiliki biaya proyek yang lebih rendah dan tingkat pembangunan yang lebih rendah, yang menunjukkan potensi pertumbuhan.\n",
      "* Perbedaan dalam variabel antara negara-negara menyoroti kebutuhan akan strategi investasi yang disesuaikan.\n",
      "* PDB per kapita Indonesia yang lebih tinggi menunjukkan peluang investasi yang menjanjikan di sektor-sektor seperti otomotif dan infrastruktur.\n",
      "* Persentase penduduk pedesaan yang tinggi di Indonesia dan Filipina menunjukkan kebutuhan untuk berinvestasi dalam pengembangan pedesaan.\n",
      "* Variasi besar dalam biaya proyek di Filipina menunjukkan perlunya kehati-hatian dalam merencanakan dan melaksanakan investasi.\n"
     ]
    }
   ],
   "source": [
    "response = model.generate_content(\"Dari data berikut {data_to_analyze.csv} dihasilkan grafik distribusi dari 3 negara (Indonesia, Philippines, Vietnam) dengan variable population, gdp, rural_population_percent, electricity_access_percent, project_cost, gdp_per_capita, berikut adalah grafiknya {Distribution_of_Variales.png}. berikan anaisis deskriptif dan insight dari grafik tersebut\")\n",
    "print(response.text)"
   ]
  }
 ],
 "metadata": {
  "kernelspec": {
   "display_name": "Python 3",
   "language": "python",
   "name": "python3"
  },
  "language_info": {
   "codemirror_mode": {
    "name": "ipython",
    "version": 3
   },
   "file_extension": ".py",
   "mimetype": "text/x-python",
   "name": "python",
   "nbconvert_exporter": "python",
   "pygments_lexer": "ipython3",
   "version": "3.12.2"
  }
 },
 "nbformat": 4,
 "nbformat_minor": 2
}
